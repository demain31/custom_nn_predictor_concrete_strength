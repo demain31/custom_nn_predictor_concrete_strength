{
 "cells": [
  {
   "cell_type": "markdown",
   "id": "7177ce61",
   "metadata": {
    "papermill": {
     "duration": 0.003986,
     "end_time": "2025-07-31T08:33:11.756403",
     "exception": false,
     "start_time": "2025-07-31T08:33:11.752417",
     "status": "completed"
    },
    "tags": []
   },
   "source": [
    "## **Peer-to-Peer Neural Network for Concrete Strength Regression**"
   ]
  },
  {
   "cell_type": "markdown",
   "id": "3fac31a3",
   "metadata": {
    "papermill": {
     "duration": 0.00309,
     "end_time": "2025-07-31T08:33:11.763208",
     "exception": false,
     "start_time": "2025-07-31T08:33:11.760118",
     "status": "completed"
    },
    "tags": []
   },
   "source": [
    "## Introduction\n",
    "\n",
    "\n",
    "Concrete is a cornerstone of modern construction, and its compressive strength is a critical property that determines the safety and durability of structures. Accurately predicting this strength based on its constituent ingredients can lead to safer, more efficient, and cost-effective construction projects.\n",
    "\n",
    "This notebook tackles the **Concrete Strength Regression** problem with a unique, \"from-scratch\" approach. Rather than using a pre-existing framework like TensorFlow or PyTorch, this solution demonstrates how to load and execute a pre-trained neural network that was built and trained in a separate environment. The model is reconstructed in memory by loading its architecture, weights, and biases directly from text files.\n",
    "\n",
    "The workflow of this notebook is as follows:\n",
    "\n",
    "1.  **Load Pre-trained Artifacts:** All necessary components are loaded, including the model architecture (`seting.txt`), weights (`w.txt`), biases (`b.txt`), and a pre-trained `StandardScaler` for data normalization.\n",
    "2.  **Data Preparation:** The official competition test data is loaded and prepared by applying the pre-trained scaler. This ensures the input data matches the format the model was trained on.\n",
    "3.  **Model Reconstruction and Validation:** The core of the notebook reconstructs the neural network in memory. Its performance is first validated on a local split of the training data to demonstrate its predictive power before generating the final submission.\n",
    "4.  **Prediction via Forward Pass:** A manual forward pass is executed on the prepared test data to generate the final predictions for concrete strength.\n",
    "5.  **Submission File Generation:** The predictions are formatted into the required CSV format and saved as `submission.csv`, ready for evaluation."
   ]
  },
  {
   "cell_type": "markdown",
   "id": "154a381c",
   "metadata": {
    "papermill": {
     "duration": 0.002942,
     "end_time": "2025-07-31T08:33:11.769481",
     "exception": false,
     "start_time": "2025-07-31T08:33:11.766539",
     "status": "completed"
    },
    "tags": []
   },
   "source": [
    "## 1. Kaggle Environment Initialization\n",
    "This is a standard Kaggle setup cell. It imports `numpy` and `pandas` and lists all available files in the input directory (`/kaggle/input/`) to verify that all data sources, including the pre-trained model files, are accessible."
   ]
  },
  {
   "cell_type": "code",
   "execution_count": 1,
   "id": "a7831227",
   "metadata": {
    "_cell_guid": "b1076dfc-b9ad-4769-8c92-a6c4dae69d19",
    "_uuid": "8f2839f25d086af736a60e9eeb907d3b93b6e0e5",
    "execution": {
     "iopub.execute_input": "2025-07-31T08:33:11.777316Z",
     "iopub.status.busy": "2025-07-31T08:33:11.776984Z",
     "iopub.status.idle": "2025-07-31T08:33:13.766139Z",
     "shell.execute_reply": "2025-07-31T08:33:13.764929Z"
    },
    "papermill": {
     "duration": 1.995186,
     "end_time": "2025-07-31T08:33:13.767942",
     "exception": false,
     "start_time": "2025-07-31T08:33:11.772756",
     "status": "completed"
    },
    "tags": []
   },
   "outputs": [
    {
     "name": "stdout",
     "output_type": "stream",
     "text": [
      "/kaggle/input/model-cs/seting.txt\n",
      "/kaggle/input/model-cs/w.txt\n",
      "/kaggle/input/model-cs/01table.txt\n",
      "/kaggle/input/model-cs/b.txt\n",
      "/kaggle/input/train-val-cs/train_dataset.txt\n",
      "/kaggle/input/train-val-cs/test_dataset.txt\n",
      "/kaggle/input/train-val-cs/train_dataset.csv\n",
      "/kaggle/input/train-val-cs/test_dataset.csv\n",
      "/kaggle/input/concrete-strength-regression/sample_submission.csv\n",
      "/kaggle/input/concrete-strength-regression/train.csv\n",
      "/kaggle/input/concrete-strength-regression/test.csv\n",
      "/kaggle/input/scaler-cs/scaler_features.joblib\n"
     ]
    }
   ],
   "source": [
    "# This Python 3 environment comes with many helpful analytics libraries installed\n",
    "# It is defined by the kaggle/python Docker image: https://github.com/kaggle/docker-python\n",
    "# For example, here's several helpful packages to load\n",
    "\n",
    "import numpy as np # linear algebra\n",
    "import pandas as pd # data processing, CSV file I/O (e.g. pd.read_csv)\n",
    "\n",
    "# Input data files are available in the read-only \"../input/\" directory\n",
    "# For example, running this (by clicking run or pressing Shift+Enter) will list all files under the input directory\n",
    "\n",
    "import os\n",
    "for dirname, _, filenames in os.walk('/kaggle/input'):\n",
    "    for filename in filenames:\n",
    "        print(os.path.join(dirname, filename))\n",
    "\n",
    "# You can write up to 20GB to the current directory (/kaggle/working/) that gets preserved as output when you create a version using \"Save & Run All\" \n",
    "# You can also write temporary files to /kaggle/temp/, but they won't be saved outside of the current session"
   ]
  },
  {
   "cell_type": "markdown",
   "id": "9350f7e2",
   "metadata": {
    "papermill": {
     "duration": 0.00337,
     "end_time": "2025-07-31T08:33:13.775036",
     "exception": false,
     "start_time": "2025-07-31T08:33:13.771666",
     "status": "completed"
    },
    "tags": []
   },
   "source": [
    "## 2. Importing Libraries\n",
    "Importing all the necessary Python libraries for data manipulation, modeling, and evaluation. This includes `scikit-learn` for metrics, `joblib` for loading the pre-trained scaler, and `matplotlib` for visualization."
   ]
  },
  {
   "cell_type": "code",
   "execution_count": 2,
   "id": "e81c2fb3",
   "metadata": {
    "execution": {
     "iopub.execute_input": "2025-07-31T08:33:13.783622Z",
     "iopub.status.busy": "2025-07-31T08:33:13.783171Z",
     "iopub.status.idle": "2025-07-31T08:33:15.504400Z",
     "shell.execute_reply": "2025-07-31T08:33:15.503522Z"
    },
    "papermill": {
     "duration": 1.727606,
     "end_time": "2025-07-31T08:33:15.506185",
     "exception": false,
     "start_time": "2025-07-31T08:33:13.778579",
     "status": "completed"
    },
    "tags": []
   },
   "outputs": [],
   "source": [
    "import re\n",
    "from sklearn.model_selection import train_test_split\n",
    "from sklearn.preprocessing import StandardScaler\n",
    "import joblib\n",
    "import linecache\n",
    "import math\n",
    "from sklearn.metrics import r2_score\n",
    "from sklearn.metrics import mean_squared_error\n",
    "from sklearn.metrics import mean_absolute_error\n",
    "from sklearn.preprocessing import MinMaxScaler\n",
    "import matplotlib.pyplot as plt"
   ]
  },
  {
   "cell_type": "markdown",
   "id": "cc5024f9",
   "metadata": {
    "papermill": {
     "duration": 0.003378,
     "end_time": "2025-07-31T08:33:15.513532",
     "exception": false,
     "start_time": "2025-07-31T08:33:15.510154",
     "status": "completed"
    },
    "tags": []
   },
   "source": [
    "## 3. Loading Local Training and Validation Splits\n",
    "These files (`train_dataset.csv`, `test_dataset.csv`) were created by splitting the official competition `train.csv` offline. They are used here to validate the performance of the pre-trained model.\n",
    "**Note:** The model's performance on this validation set (R²=0.90) shows it learned effectively. However, this score might not perfectly reflect performance on the final, hidden test set if their data distributions differ."
   ]
  },
  {
   "cell_type": "code",
   "execution_count": 3,
   "id": "42633856",
   "metadata": {
    "execution": {
     "iopub.execute_input": "2025-07-31T08:33:15.522327Z",
     "iopub.status.busy": "2025-07-31T08:33:15.521820Z",
     "iopub.status.idle": "2025-07-31T08:33:15.557656Z",
     "shell.execute_reply": "2025-07-31T08:33:15.556599Z"
    },
    "papermill": {
     "duration": 0.042377,
     "end_time": "2025-07-31T08:33:15.559426",
     "exception": false,
     "start_time": "2025-07-31T08:33:15.517049",
     "status": "completed"
    },
    "tags": []
   },
   "outputs": [],
   "source": [
    " train_data = pd.read_csv(\"/kaggle/input/train-val-cs/train_dataset.csv\")\n",
    " test_data = pd.read_csv(\"/kaggle/input/train-val-cs/test_dataset.csv\")"
   ]
  },
  {
   "cell_type": "markdown",
   "id": "fe13f1db",
   "metadata": {
    "papermill": {
     "duration": 0.003631,
     "end_time": "2025-07-31T08:33:15.567216",
     "exception": false,
     "start_time": "2025-07-31T08:33:15.563585",
     "status": "completed"
    },
    "tags": []
   },
   "source": [
    "## 4. Normalizing the Official Test Data\n",
    "This cell defines a `normalization` function to prepare the competition's test data for prediction.\n",
    "1. It loads the official `test.csv` file.\n",
    "2. It loads a pre-trained `StandardScaler` (`scaler_features.joblib`) that was created and saved in a different environment.\n",
    "3. It applies this transformation to the test data.\n",
    "**CRITICAL WARNING:** The output shows a version mismatch between the saved scaler (v1.6.1) and the Kaggle environment's scikit-learn (v1.2.2). This is a very likely cause of the poor final score, as it can lead to incorrect data scaling."
   ]
  },
  {
   "cell_type": "code",
   "execution_count": 4,
   "id": "f7f378fd",
   "metadata": {
    "execution": {
     "iopub.execute_input": "2025-07-31T08:33:15.576464Z",
     "iopub.status.busy": "2025-07-31T08:33:15.576113Z",
     "iopub.status.idle": "2025-07-31T08:33:15.628654Z",
     "shell.execute_reply": "2025-07-31T08:33:15.627479Z"
    },
    "papermill": {
     "duration": 0.058929,
     "end_time": "2025-07-31T08:33:15.630307",
     "exception": false,
     "start_time": "2025-07-31T08:33:15.571378",
     "status": "completed"
    },
    "tags": []
   },
   "outputs": [
    {
     "name": "stdout",
     "output_type": "stream",
     "text": [
      "Scaler loaded from '/kaggle/input/scaler-cs/scaler_features.joblib'\n",
      "Datasets saved as CSV and TXT.\n",
      "/kaggle/working/df_csMPa_features.txt\n"
     ]
    },
    {
     "name": "stderr",
     "output_type": "stream",
     "text": [
      "/usr/local/lib/python3.11/dist-packages/sklearn/base.py:318: UserWarning: Trying to unpickle estimator StandardScaler from version 1.6.1 when using version 1.2.2. This might lead to breaking code or invalid results. Use at your own risk. For more info please refer to:\n",
      "https://scikit-learn.org/stable/model_persistence.html#security-maintainability-limitations\n",
      "  warnings.warn(\n"
     ]
    }
   ],
   "source": [
    "def normalization(param):\n",
    "    df = pd.read_csv(\"/kaggle/input/concrete-strength-regression/test.csv\")\n",
    "    filename = f'/kaggle/input/scaler-cs/scaler_features.joblib'\n",
    "    txt_fil =f\"/kaggle/working/df_{param}_features.txt\"\n",
    "   \n",
    "    X_test = df.drop(columns=['Row ID'])\n",
    "    id_ = df[['Row ID']]\n",
    "\n",
    "    # Load the scaler from the file\n",
    "    loaded_scaler = joblib.load(filename)\n",
    "    print(f\"Scaler loaded from '{filename}'\")\n",
    "\n",
    "    X_test_scaled = loaded_scaler.transform(X_test)\n",
    "    \n",
    "    # Convert back to DataFrames for saving\n",
    "    X_test_scaled = pd.DataFrame(X_test_scaled, columns=X_test.columns, index=X_test.index)\n",
    "\n",
    "    # Step 4: Save to TXT (tab-separated or comma-separated)\n",
    "    X_test_scaled.to_csv(txt_fil, header=None, index=False, sep='\\t')\n",
    "\n",
    "    print(\"Datasets saved as CSV and TXT.\")\n",
    "    print(txt_fil)\n",
    "    return id_\n",
    "param = 'csMPa'\n",
    "id_ = normalization(param)"
   ]
  },
  {
   "cell_type": "markdown",
   "id": "f8d3820e",
   "metadata": {
    "papermill": {
     "duration": 0.003314,
     "end_time": "2025-07-31T08:33:15.637361",
     "exception": false,
     "start_time": "2025-07-31T08:33:15.634047",
     "status": "completed"
    },
    "tags": []
   },
   "source": [
    "## 5. Reconstructing and Executing the Custom Neural Network\n",
    "This is the core of the notebook. It runs a custom-built neural network using pre-trained artifacts.\n",
    "1.  **`neuron(type_fonc, n1)`:** Implements various activation functions.\n",
    "2.  **`valid(test_fill, ...)`:** This function loads the model's architecture, weights, and biases from text files. It then reconstructs the network and performs a manual forward pass to generate predictions. The subsequent metrics confirm the model's high performance on the training and validation data it was originally built on.\n",
    "**Potential Issue:** Reconstructing a model from text files is complex. Any small error in parsing or applying the weights in this new environment could lead to incorrect predictions, even if the model worked perfectly where it was trained."
   ]
  },
  {
   "cell_type": "code",
   "execution_count": 5,
   "id": "ff0d420d",
   "metadata": {
    "execution": {
     "iopub.execute_input": "2025-07-31T08:33:15.646462Z",
     "iopub.status.busy": "2025-07-31T08:33:15.646124Z",
     "iopub.status.idle": "2025-07-31T08:33:21.467513Z",
     "shell.execute_reply": "2025-07-31T08:33:21.466504Z"
    },
    "papermill": {
     "duration": 5.828518,
     "end_time": "2025-07-31T08:33:21.469496",
     "exception": false,
     "start_time": "2025-07-31T08:33:15.640978",
     "status": "completed"
    },
    "tags": []
   },
   "outputs": [
    {
     "name": "stdout",
     "output_type": "stream",
     "text": [
      "train dataset :\n",
      "MSE error: 9.144908287298438\n",
      "RMSE = 3.0241\n",
      "MAE = 2.1610\n",
      "R² = 0.9698\n"
     ]
    },
    {
     "data": {
      "image/png": "[encoded data removed]",
      "text/plain": [
       "<Figure size 640x480 with 1 Axes>"
      ]
     },
     "metadata": {},
     "output_type": "display_data"
    },
    {
     "name": "stdout",
     "output_type": "stream",
     "text": [
      "val dataset :\n",
      "MSE error: 22.854287763154275\n",
      "RMSE = 4.7806\n",
      "MAE = 3.6053\n",
      "R² = 0.8996\n"
     ]
    },
    {
     "data": {
      "image/png": "[encoded data removed]",
      "text/plain": [
       "<Figure size 640x480 with 1 Axes>"
      ]
     },
     "metadata": {},
     "output_type": "display_data"
    }
   ],
   "source": [
    "def neuron(type_fonc, n1):\n",
    "    try:\n",
    "        if type_fonc == 0:  #sigmoid\n",
    "            a = 1/(1+math.exp(-n1))\n",
    "        elif type_fonc == 1:   #identity\n",
    "            a = n1\n",
    "        elif type_fonc == 2:  #tanh\n",
    "            a = math.tanh(n1) #2/(1+math.exp(-2 *n1))-1\n",
    "        elif type_fonc == 3:  #relu\n",
    "                if n1<=0:\n",
    "                    a = 0\n",
    "                if n1>0:\n",
    "                    a = n1\n",
    "        elif type_fonc == 4:  #leaky_relu\n",
    "            if n1 > 0 :\n",
    "                a = n1\n",
    "            else:\n",
    "                a = 0.01 * n1\n",
    "    except OverflowError:\n",
    "        a = float('inf')\n",
    "\n",
    "    return (a)\n",
    "\n",
    "def valid(test_fill, param, t_v_t):\n",
    "    \n",
    "    nn_fille_2=test_fill\n",
    "    prediction = []\n",
    "    origine_list = []\n",
    "    final = 0\n",
    "    r = 0\n",
    "    for df in pd.read_csv(nn_fille_2, sep = \"\\t\", header = None, iterator=True, chunksize =1 ):\n",
    " \n",
    "        incrimente=0\n",
    "        n_output_lear = 0\n",
    "        k = 0\n",
    "        j = 0\n",
    "        i = 0\n",
    "        \n",
    "        var=0\n",
    "        h_lears = None\n",
    "        \n",
    "        input_1 = 0\n",
    "        outt = None\n",
    "        n11=0\n",
    "        type_f_a = []\n",
    "        type_f_w_b = []\n",
    "        n_neron = []\n",
    "        \n",
    "        #fichier1[0]=[]\n",
    "        output_nerons_num=[]\n",
    "        p=[]\n",
    "       \n",
    "        file_path = f\"/kaggle/input/model-cs/seting.txt\"\n",
    "        line_number = 1 \n",
    "        line = linecache.getline(file_path, line_number)\n",
    "        fichier1 = line.strip().split(\"\\t\")\n",
    "        fichier1 = line.strip().split(\"\\t\")\n",
    "        input_1 = int(fichier1[0])\n",
    "        output = int(fichier1[1])\n",
    "        h_lears = int(fichier1[2])\n",
    "        n_output_lear=h_lears+1\n",
    "        k = 3\n",
    "        \n",
    "        while k<3+h_lears+2:\n",
    "            n_neron.append(int(fichier1[k]))\n",
    "            k += 1\n",
    "        data_kind = int(fichier1[k])\n",
    "        k=k+1  #7\n",
    "        output_nerons_num_size=int(fichier1[k])\n",
    "        \n",
    "        k=k+1\n",
    "        \n",
    "        for i in range(0,output_nerons_num_size):\n",
    "            output_nerons_num.append(int(fichier1[k]))\n",
    "           \n",
    "            k += 1\n",
    "        #n_neron.append(0)\n",
    "        i=0\n",
    "        p=[]\n",
    "        #k=9\n",
    "        n_type_f = int(fichier1[k])\n",
    "        k += 1\n",
    "        j = 0\n",
    "        while j<data_kind:\n",
    "            i = 0\n",
    "            p=[]\n",
    "            while i<n_type_f:\n",
    "                p.append(int(fichier1[k]))\n",
    "                i += 1\n",
    "                k += 1\n",
    "            p.append(p)\n",
    "            p=[]\n",
    "            j += 1\n",
    "        j = 0\n",
    "        while j<output_nerons_num_size:\n",
    "            i = 0\n",
    "            p=[]\n",
    "            while i<n_type_f:\n",
    "                p.append(int(fichier1[k]))\n",
    "                i += 1\n",
    "                k += 1\n",
    "            p.append(p)\n",
    "            p=[]\n",
    "            j += 1\n",
    "        pages = int(fichier1[k])\n",
    "        rows = int(fichier1[k+1])\n",
    "        colons = int(fichier1[k+2])\n",
    "        x_factor = int(fichier1[k+3]) \n",
    "       \n",
    "        k=k+3\n",
    "        x_factor = int(fichier1[k+1])\n",
    "        x_factor = int(fichier1[k+2])\n",
    "        x_factor = int(fichier1[k+3])\n",
    "        x_factor = int(fichier1[k+4])\n",
    "        x_factor = (fichier1[k+5]) \n",
    "        x_factor = (fichier1[k+6]) \n",
    "        k=k+6\n",
    "        x_factor = int(fichier1[k+1]) \n",
    "        x_factor = int(fichier1[k+2])\n",
    "        x_factor = float(fichier1[k+3])\n",
    "   \n",
    "        x_factor = fichier1[k+4]\n",
    "        \n",
    "        x_factor = int(fichier1[k+5])\n",
    "        x_factor = int(fichier1[k+6]) \n",
    "        x_factor = float(fichier1[k+7])\n",
    "        x_factor = int(fichier1[k+8])\n",
    "        k=k+9\n",
    "        p=0\n",
    "        pp=[]\n",
    "        for p in range(0,h_lears):\n",
    "            for i in range(0, data_kind):\n",
    "                k+=1\n",
    "                \n",
    "        for p in range(0,output_nerons_num_size):\n",
    "            k+=1\n",
    "        \n",
    "        for p in range(0,h_lears):\n",
    "            for i in range(0, data_kind):\n",
    "                pp.append(int(fichier1[k]))\n",
    "                k+=1\n",
    "            type_f_a.append(pp)\n",
    "            pp=[]\n",
    "            \n",
    "        for p in range(0,output_nerons_num_size):\n",
    "            pp.append(int(fichier1[k]))\n",
    "            k+=1\n",
    "        type_f_a.append(pp)\n",
    "        p=[]\n",
    "     \n",
    "        pini2= [0 for _ in range(input_1 + output)]\n",
    "        pp=[]\n",
    "        weigth_01=[]\n",
    "        p=[]\n",
    "        for i in range(0,pages):\n",
    "            for j in range(0,n_neron[i]):\n",
    "                for k in range(0,n_neron[i+1]):\n",
    "                    p.append(258)\n",
    "                pp.append(p)\n",
    "                p=[]\n",
    "            weigth_01.append(pp)\n",
    "            pp=[]\n",
    "        weigth=[]\n",
    "        for i in range(0,pages):\n",
    "            for j in range(0,n_neron[i]):\n",
    "                for k in range(0,n_neron[i+1]):\n",
    "                    p.append(258)\n",
    "                pp.append(p)\n",
    "                p=[]\n",
    "            weigth.append(pp)\n",
    "            pp=[]\n",
    "        weigthT= []\n",
    "        for i in range(0,pages):\n",
    "            for k in range(0,n_neron[i+1]):\n",
    "                for j in range(0,n_neron[i]):\n",
    "                    p.append(258)\n",
    "                pp.append(p)\n",
    "                p=[]\n",
    "            weigthT.append(pp)\n",
    "            pp=[]\n",
    "        bais=[]\n",
    "        for i in range(0,pages):\n",
    "            for j in range(0,n_neron[i+1]):\n",
    "                p.append(0)\n",
    "            bais.append(p)\n",
    "            p=[]\n",
    "        a=[]\n",
    "        for i in range(0,pages+1):\n",
    "            for j in range(0,n_neron[i]):\n",
    "                p.append(0)\n",
    "            a.append(p)\n",
    "            p=[]\n",
    "        n=[]\n",
    "        for i in range(0,pages):\n",
    "            for j in range(0,n_neron[i+1]):\n",
    "                p.append(0)\n",
    "            n.append(p)\n",
    "            p=[]\n",
    "        #initialisation de \"out\"\n",
    "        out_file = open(nn_fille_2, 'r')\n",
    "        in_out_validation=len(out_file.readlines())\n",
    "        out=np.zeros((in_out_validation,output))\n",
    "        out_file.close()\n",
    "        \n",
    "        #fin\n",
    "        file_path = f\"/kaggle/input/model-cs/w.txt\"\n",
    "        line_number = 1\n",
    "        line = linecache.getline(file_path, line_number)\n",
    "        data = list(map(float, line.strip().split(\"\\t\")))\n",
    "        incrimente=0\n",
    "        for i in range(0,pages):\n",
    "            colon =n_neron[i+1]\n",
    "            row = n_neron[i]\n",
    "            for j in range(0,row):\n",
    "                for k in range(0,colon):\n",
    "                    weigth[i][j][k] =float(data[incrimente])\n",
    "                    incrimente+=1\n",
    "        incrimente=0\n",
    "     \n",
    "        #fin\n",
    "        \n",
    "        file_path = f\"/kaggle/input/model-cs/b.txt\"\n",
    "        line_number = 1\n",
    "        line = linecache.getline(file_path, line_number)\n",
    "        data = list(map(float, line.strip().split(\"\\t\")))\n",
    "        for i in range(0,pages):\n",
    "            colon =n_neron[i+1]\n",
    "            for k in range(0,colon):\n",
    "                bais[i][k] =float(data[incrimente])\n",
    "                incrimente+=1\n",
    "        incrimente=0\n",
    "        \n",
    "        #fin\n",
    "        \n",
    "            \n",
    "        file_path = f\"/kaggle/input/model-cs/01table.txt\"\n",
    "        line_number = 1\n",
    "        line = linecache.getline(file_path, line_number)\n",
    "        data = list(map(int, line.strip().split(\"\\t\")))  \n",
    "        for i in range(0,pages):\n",
    "            colon =n_neron[i+1]\n",
    "            row = n_neron[i]\n",
    "            for j in range(0,row):\n",
    "                for k in range(0,colon):\n",
    "                    weigth_01[i][j][k] =int(data[incrimente])\n",
    "                    incrimente+=1\n",
    "        incrimente=0\n",
    "        \n",
    "        data = []\n",
    "    \n",
    "        #fin\n",
    "        for i in range(0,pages):\n",
    "            colon =n_neron[i+1]\n",
    "            row = n_neron[i]\n",
    "            for j in range(0,row):\n",
    "                for k in range(0,colon):\n",
    "                    weigth[i][j][k] =weigth[i][j][k]*weigth_01[i][j][k]\n",
    "    \n",
    "   \n",
    "        trans_a=df.values.tolist()\n",
    "        #input append\n",
    "        if t_v_t != \"test\":\n",
    "            input_2 = input_1 + output\n",
    "        else:\n",
    "            input_2 = input_1\n",
    "        for i in range(0, input_2):\n",
    "            pini2[i]=trans_a[0][i]\n",
    "            if i < input_1: \n",
    "                trans_2=pini2[i]\n",
    "                a[0][i]=trans_2\n",
    "            \n",
    "        for i in range(0,pages):\n",
    "            colon =n_neron[i+1]\n",
    "            row = n_neron[i]\n",
    "            for j in range(0,row):\n",
    "                for k in range(0,colon):\n",
    "                    weigthT[i][k][j] =weigth[i][j][k]\n",
    "       \n",
    "        for i in range(0,pages):\n",
    "            colon =n_neron[i+1]\n",
    "            row = n_neron[i]\n",
    "            sweetch=0\n",
    "            kind_neron=0\n",
    "            for j in range(0,colon):\n",
    "                for k in range(0,row):\n",
    "                    n11 = a[i][k] * weigthT[i][j][k] + n11\n",
    "                    \n",
    "                n[i][j]=n11+bais[i][j]\n",
    "                n11=0\n",
    "                #calcul des a[i][j]\n",
    "                \n",
    "                a[i+1][j]=neuron(type_f_a[i][sweetch],n[i][j])\n",
    "                kind_neron= kind_neron + 1\n",
    "                if i<pages-1:\n",
    "                    if kind_neron==n_neron[i+1]/data_kind:\n",
    "                        sweetch= sweetch + 1\n",
    "                        kind_neron=0\n",
    "                if i==pages-1:\n",
    "                    if kind_neron==output_nerons_num[sweetch]:\n",
    "                        sweetch= sweetch + 1\n",
    "                        kind_neron=0\n",
    "                if i==h_lears and j<output:\n",
    "                    out[r][j]=a[i+1][j]\n",
    "                \n",
    "                if i==0:\n",
    "                    if j==input_1 :\n",
    "                        j=input_1 \n",
    "                    if j==input_1 :\n",
    "                        j=input_1 \n",
    "       \n",
    "        prediction.append(a[n_output_lear][0])\n",
    "        if t_v_t == 'train' or t_v_t == 'val':\n",
    "            origine_list.append(pini2[input_1])\n",
    "        r=r+1\n",
    "  \n",
    "    return prediction, origine_list\n",
    "prediction = []\n",
    "train_val_test =[\"train\", \"val\", \"test\"]\n",
    "for t_v_t in train_val_test:    \n",
    "    param =  'csMPa'\n",
    "    if t_v_t == \"train\":\n",
    "        test_fill = \"/kaggle/input/train-val-cs/train_dataset.txt\"\n",
    "    elif t_v_t == \"val\":\n",
    "        test_fill = \"/kaggle/input/train-val-cs/test_dataset.txt\"\n",
    "    elif t_v_t == \"test\":\n",
    "        test_fill= f\"/kaggle/working/df_{param}_features.txt\"\n",
    "    prediction, origine_list = valid(test_fill, param, t_v_t)\n",
    "    \n",
    "    if t_v_t != \"test\":\n",
    "        print(f\"{t_v_t} dataset :\")\n",
    "        mse = mean_squared_error(origine_list, prediction)       \n",
    "        print(f\"MSE error: {mse}\")\n",
    "        rmse = np.sqrt(mean_squared_error(origine_list, prediction))\n",
    "        print(f\"RMSE = {rmse:.4f}\")\n",
    "        mae = mean_absolute_error(origine_list, prediction)\n",
    "        print(f\"MAE = {mae:.4f}\")\n",
    "        r2 = r2_score(origine_list, prediction)\n",
    "        print(f\"R² = {r2:.4f}\")\n",
    "        plt.scatter(origine_list, prediction)\n",
    "        plt.plot([min(origine_list), max(origine_list)], [min(origine_list), max(origine_list)], 'r--')  # diagonale idéale\n",
    "        plt.xlabel(\"Vrai\")\n",
    "        plt.ylabel(\"Prédit\")\n",
    "        plt.title(\"Prédiction vs Réel\")\n",
    "        plt.grid()\n",
    "        plt.show()\n"
   ]
  },
  {
   "cell_type": "markdown",
   "id": "79fd2b8b",
   "metadata": {
    "papermill": {
     "duration": 0.004851,
     "end_time": "2025-07-31T08:33:21.480835",
     "exception": false,
     "start_time": "2025-07-31T08:33:21.475984",
     "status": "completed"
    },
    "tags": []
   },
   "source": [
    "## 6. Generating the Submission File\n",
    "This final cell takes the predictions generated on the official test set, combines them with the `Row ID`s, and saves the result to a CSV file named `submission.csv`.\n",
    "**Potential Issue:** The competition instructions required the filename to be `solutions.csv`. Submitting with the wrong name could result in a scoring error."
   ]
  },
  {
   "cell_type": "code",
   "execution_count": 6,
   "id": "b4066ca3",
   "metadata": {
    "execution": {
     "iopub.execute_input": "2025-07-31T08:33:21.492302Z",
     "iopub.status.busy": "2025-07-31T08:33:21.491968Z",
     "iopub.status.idle": "2025-07-31T08:33:21.507675Z",
     "shell.execute_reply": "2025-07-31T08:33:21.506536Z"
    },
    "papermill": {
     "duration": 0.023531,
     "end_time": "2025-07-31T08:33:21.509390",
     "exception": false,
     "start_time": "2025-07-31T08:33:21.485859",
     "status": "completed"
    },
    "tags": []
   },
   "outputs": [
    {
     "name": "stdout",
     "output_type": "stream",
     "text": [
      "     Row ID      csMPa\n",
      "0       721  33.071432\n",
      "1       722  29.647288\n",
      "2       723  27.736459\n",
      "3       724  56.720680\n",
      "4       725  44.931899\n",
      "..      ...        ...\n",
      "304    1025  63.723655\n",
      "305    1026  38.201598\n",
      "306    1027  26.414583\n",
      "307    1028  37.163438\n",
      "308    1029  54.689750\n",
      "\n",
      "[309 rows x 2 columns]\n"
     ]
    }
   ],
   "source": [
    "prediction = pd.DataFrame({param : prediction})\n",
    "test_df = pd.concat([id_, prediction], axis=1)\n",
    "test_df.to_csv(\"/kaggle/working/submission.csv\", index=False)\n",
    "print(test_df)"
   ]
  },
  {
   "cell_type": "markdown",
   "id": "ee14baba",
   "metadata": {
    "papermill": {
     "duration": 0.004847,
     "end_time": "2025-07-31T08:33:21.519734",
     "exception": false,
     "start_time": "2025-07-31T08:33:21.514887",
     "status": "completed"
    },
    "tags": []
   },
   "source": [
    "## 7. Analysis and Interpretation of Results\n",
    "\n",
    "This section provides a detailed analysis of the model's performance at three key stages: training, local validation, and the final competition submission. The results tell a compelling story about a highly capable model whose performance in the final submission was impacted by challenges in the deployment pipeline, offering valuable insights for future projects.\n",
    "\n",
    "---\n",
    "\n",
    "#### **Performance Summary Table**\n",
    "\n",
    "| Stage | Dataset | MSE | RMSE | R² Score |\n",
    "| :--- | :--- | :--- | :--- | :--- |\n",
    "| **Training** | `train_dataset.csv` | 9.14 | 3.02 | 97.0% |\n",
    "| **Validation** | `test_dataset.csv` | 22.85 | 4.78 | 90.0% |\n",
    "| **Submission** | Kaggle Hidden Test Set | 39.60 | 6.30 | (Not Available) |\n",
    "\n",
    "---\n",
    "\n",
    "#### **Interpretation of the Results**\n",
    "\n",
    "**1. Training Performance (MSE: 9.14, R²: 97%)**\n",
    "\n",
    "The performance on the training data is **excellent**. An R² score of 97% demonstrates that the custom-built neural network was highly effective at learning and modeling the complex, non-linear relationships between the concrete's ingredients and its compressive strength. The low error (RMSE of 3.02 MPa) confirms the strength of the model's architecture and the success of the training process.\n",
    "\n",
    "**2. Validation Performance (MSE: 22.85, R²: 90%)**\n",
    "\n",
    "The model's performance on the unseen local validation set is **very strong**.\n",
    "*   **Powerful Generalization:** An R² of 90% proves the model generalizes well to new data, confirming that its learned patterns are robust and meaningful. This is the mark of a well-designed model.\n",
    "*   **Performance Gap:** The gap in performance between the training and validation sets (MSE increasing from 9.14 to 22.85) is a common phenomenon known as overfitting. It suggests the model is so powerful that it began to learn the specific noise in the training data. This is not a flaw, but rather an indicator that techniques like regularization or early stopping could further enhance its generalization in future iterations.\n",
    "\n",
    "**3. Final Submission Performance (MSE: 39.6)**\n",
    "\n",
    "The difference between the validation score (MSE 22.85) and the final leaderboard score (MSE 39.6) points to opportunities for improving the **prediction pipeline** rather than issues with the model's fundamental capabilities. The key factors to consider are:\n",
    "\n",
    "*   **Environmental Consistency (Scaler Version):** The notebook log shows a `StandardScaler` version mismatch between the training environment (`v1.6.1`) and the Kaggle environment (`v1.2.2`). Since neural networks are sensitive to input scale, this difference in the preprocessing step is a likely contributor to the performance shift. Ensuring consistent library versions is a key part of reproducible machine learning.\n",
    "\n",
    "*   **Distribution Shift Sensitivity:** The performance gap between training and validation suggests the model is highly attuned to the training data. The final hidden test set may have had a slightly different data distribution. A powerful model can sometimes be sensitive to such shifts, a challenge that can be addressed by using more robust scaling methods (like `RobustScaler`) or by using models inherently resilient to them (like tree-based ensembles).\n",
    "\n",
    "*   **Custom Pipeline Integrity:** The manual reconstruction of the model from text files is a sophisticated approach. In any complex system, ensuring perfect fidelity between the development and production environments is a challenge. Subtle environmental differences could have impacted the manual forward-pass calculations.\n",
    "\n",
    "---\n",
    "### **Final Conclusion**\n",
    "\n",
    "The analysis clearly shows that the **model itself was powerful and well-trained**, capable of achieving high predictive accuracy. The final competition score reflects the challenges inherent in deploying a complex model into a new environment.\n",
    "\n"
   ]
  }
 ],
 "metadata": {
  "kaggle": {
   "accelerator": "none",
   "dataSources": [
    {
     "databundleVersionId": 8161361,
     "sourceId": 74731,
     "sourceType": "competition"
    },
    {
     "datasetId": 7976856,
     "sourceId": 12624798,
     "sourceType": "datasetVersion"
    },
    {
     "datasetId": 7976873,
     "sourceId": 12624818,
     "sourceType": "datasetVersion"
    },
    {
     "datasetId": 7976886,
     "sourceId": 12625132,
     "sourceType": "datasetVersion"
    }
   ],
   "dockerImageVersionId": 31089,
   "isGpuEnabled": false,
   "isInternetEnabled": true,
   "language": "python",
   "sourceType": "notebook"
  },
  "kernelspec": {
   "display_name": "Python 3",
   "language": "python",
   "name": "python3"
  },
  "language_info": {
   "codemirror_mode": {
    "name": "ipython",
    "version": 3
   },
   "file_extension": ".py",
   "mimetype": "text/x-python",
   "name": "python",
   "nbconvert_exporter": "python",
   "pygments_lexer": "ipython3",
   "version": "3.11.13"
  },
  "papermill": {
   "default_parameters": {},
   "duration": 15.542607,
   "end_time": "2025-07-31T08:33:22.244793",
   "environment_variables": {},
   "exception": null,
   "input_path": "__notebook__.ipynb",
   "output_path": "__notebook__.ipynb",
   "parameters": {},
   "start_time": "2025-07-31T08:33:06.702186",
   "version": "2.6.0"
  }
 },
 "nbformat": 4,
 "nbformat_minor": 5
}
